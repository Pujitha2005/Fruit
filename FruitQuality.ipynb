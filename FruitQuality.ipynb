{
  "metadata": {
    "kernelspec": {
      "language": "python",
      "display_name": "Python 3",
      "name": "python3"
    },
    "language_info": {
      "name": "python",
      "version": "3.10.13",
      "mimetype": "text/x-python",
      "codemirror_mode": {
        "name": "ipython",
        "version": 3
      },
      "pygments_lexer": "ipython3",
      "nbconvert_exporter": "python",
      "file_extension": ".py"
    },
    "kaggle": {
      "accelerator": "none",
      "dataSources": [
        {
          "sourceId": 70769,
          "databundleVersionId": 7731816,
          "sourceType": "competition"
        }
      ],
      "dockerImageVersionId": 30646,
      "isInternetEnabled": true,
      "language": "python",
      "sourceType": "notebook",
      "isGpuEnabled": false
    },
    "colab": {
      "name": "notebook05fd78be10",
      "provenance": [],
      "include_colab_link": true
    }
  },
  "nbformat_minor": 0,
  "nbformat": 4,
  "cells": [
    {
      "cell_type": "markdown",
      "metadata": {
        "id": "view-in-github",
        "colab_type": "text"
      },
      "source": [
        "<a href=\"https://colab.research.google.com/github/Pujitha2005/Fruit/blob/main/FruitQuality.ipynb\" target=\"_parent\"><img src=\"https://colab.research.google.com/assets/colab-badge.svg\" alt=\"Open In Colab\"/></a>"
      ]
    },
    {
      "source": [
        "\n",
        "# IMPORTANT: RUN THIS CELL IN ORDER TO IMPORT YOUR KAGGLE DATA SOURCES\n",
        "# TO THE CORRECT LOCATION (/kaggle/input) IN YOUR NOTEBOOK,\n",
        "# THEN FEEL FREE TO DELETE THIS CELL.\n",
        "# NOTE: THIS NOTEBOOK ENVIRONMENT DIFFERS FROM KAGGLE'S PYTHON\n",
        "# ENVIRONMENT SO THERE MAY BE MISSING LIBRARIES USED BY YOUR\n",
        "# NOTEBOOK.\n",
        "\n",
        "import os\n",
        "import sys\n",
        "from tempfile import NamedTemporaryFile\n",
        "from urllib.request import urlopen\n",
        "from urllib.parse import unquote, urlparse\n",
        "from urllib.error import HTTPError\n",
        "from zipfile import ZipFile\n",
        "import tarfile\n",
        "import shutil\n",
        "\n",
        "CHUNK_SIZE = 40960\n",
        "DATA_SOURCE_MAPPING = 'aids-data-quest-society:https%3A%2F%2Fstorage.googleapis.com%2Fkaggle-competitions-data%2Fkaggle-v2%2F70769%2F7731816%2Fbundle%2Farchive.zip%3FX-Goog-Algorithm%3DGOOG4-RSA-SHA256%26X-Goog-Credential%3Dgcp-kaggle-com%2540kaggle-161607.iam.gserviceaccount.com%252F20240331%252Fauto%252Fstorage%252Fgoog4_request%26X-Goog-Date%3D20240331T114013Z%26X-Goog-Expires%3D259200%26X-Goog-SignedHeaders%3Dhost%26X-Goog-Signature%3D3db702c3c1b9be9da8f3835d7734d938e4a7064405f0a9dc0dee9cc2c5af4ed56c3c76d62b9108746f02b4bea8b2c0feb5fb506a1f1f0b21484b3df7a62d3aa4aa6dd1bc011bc842dc7e4ff1c2805ce1cbcce3a3a7feddc12a4e1b0892564e9666c3df149b47b0d8b0c141cf29ecd5074fdc21f8519e00f756e6ef1a6b1418f9c02b45d7ef4d5154cd1c6d4af4194415ccf4eb0c9a4afec51ca77803f7d966378469498fd194efabaef30140542d771085e7d0106c1b55250c447b58d4904209bb197e38c6a0dc3b0d2b5e232cd39a47551c78d33050e8eb64044e19f06841dc55ae62cbd0bacbc88123181e5c375bf9cd5f8fba2585618503b1e0ec04097878'\n",
        "\n",
        "KAGGLE_INPUT_PATH='/kaggle/input'\n",
        "KAGGLE_WORKING_PATH='/kaggle/working'\n",
        "KAGGLE_SYMLINK='kaggle'\n",
        "\n",
        "!umount /kaggle/input/ 2> /dev/null\n",
        "shutil.rmtree('/kaggle/input', ignore_errors=True)\n",
        "os.makedirs(KAGGLE_INPUT_PATH, 0o777, exist_ok=True)\n",
        "os.makedirs(KAGGLE_WORKING_PATH, 0o777, exist_ok=True)\n",
        "\n",
        "try:\n",
        "  os.symlink(KAGGLE_INPUT_PATH, os.path.join(\"..\", 'input'), target_is_directory=True)\n",
        "except FileExistsError:\n",
        "  pass\n",
        "try:\n",
        "  os.symlink(KAGGLE_WORKING_PATH, os.path.join(\"..\", 'working'), target_is_directory=True)\n",
        "except FileExistsError:\n",
        "  pass\n",
        "\n",
        "for data_source_mapping in DATA_SOURCE_MAPPING.split(','):\n",
        "    directory, download_url_encoded = data_source_mapping.split(':')\n",
        "    download_url = unquote(download_url_encoded)\n",
        "    filename = urlparse(download_url).path\n",
        "    destination_path = os.path.join(KAGGLE_INPUT_PATH, directory)\n",
        "    try:\n",
        "        with urlopen(download_url) as fileres, NamedTemporaryFile() as tfile:\n",
        "            total_length = fileres.headers['content-length']\n",
        "            print(f'Downloading {directory}, {total_length} bytes compressed')\n",
        "            dl = 0\n",
        "            data = fileres.read(CHUNK_SIZE)\n",
        "            while len(data) > 0:\n",
        "                dl += len(data)\n",
        "                tfile.write(data)\n",
        "                done = int(50 * dl / int(total_length))\n",
        "                sys.stdout.write(f\"\\r[{'=' * done}{' ' * (50-done)}] {dl} bytes downloaded\")\n",
        "                sys.stdout.flush()\n",
        "                data = fileres.read(CHUNK_SIZE)\n",
        "            if filename.endswith('.zip'):\n",
        "              with ZipFile(tfile) as zfile:\n",
        "                zfile.extractall(destination_path)\n",
        "            else:\n",
        "              with tarfile.open(tfile.name) as tarfile:\n",
        "                tarfile.extractall(destination_path)\n",
        "            print(f'\\nDownloaded and uncompressed: {directory}')\n",
        "    except HTTPError as e:\n",
        "        print(f'Failed to load (likely expired) {download_url} to path {destination_path}')\n",
        "        continue\n",
        "    except OSError as e:\n",
        "        print(f'Failed to load {download_url} to path {destination_path}')\n",
        "        continue\n",
        "\n",
        "print('Data source import complete.')\n"
      ],
      "metadata": {
        "id": "B7zNDYoYT2xZ"
      },
      "cell_type": "code",
      "outputs": [],
      "execution_count": null
    },
    {
      "cell_type": "code",
      "source": [
        "# This Python 3 environment comes with many helpful analytics libraries installed\n",
        "# It is defined by the kaggle/python Docker image: https://github.com/kaggle/docker-python\n",
        "# For example, here's several helpful packages to load\n",
        "\n",
        "import numpy as np # linear algebra\n",
        "import pandas as pd # data processing, CSV file I/O (e.g. pd.read_csv)\n",
        "import matplotlib.pyplot as plt\n",
        "import seaborn as sns\n",
        "from sklearn.preprocessing import MinMaxScaler\n",
        "from sklearn.model_selection import train_test_split\n",
        "import tensorflow as tf\n",
        "import keras\n",
        "from keras import layers\n",
        "# Input data files are available in the read-only \"../input/\" directory\n",
        "# For example, running this (by clicking run or pressing Shift+Enter) will list all files under the input directory\n",
        "\n",
        "import os\n",
        "for dirname, _, filenames in os.walk('/kaggle/input'):\n",
        "    for filename in filenames:\n",
        "        print(os.path.join(dirname, filename))\n",
        "\n",
        "# You can write up to 20GB to the current directory (/kaggle/working/) that gets preserved as output when you create a version using \"Save & Run All\"\n",
        "# You can also write temporary files to /kaggle/temp/, but they won't be saved outside of the current session"
      ],
      "metadata": {
        "_uuid": "8f2839f25d086af736a60e9eeb907d3b93b6e0e5",
        "_cell_guid": "b1076dfc-b9ad-4769-8c92-a6c4dae69d19",
        "execution": {
          "iopub.status.busy": "2024-02-25T15:22:50.12642Z",
          "iopub.execute_input": "2024-02-25T15:22:50.127394Z",
          "iopub.status.idle": "2024-02-25T15:22:50.136216Z",
          "shell.execute_reply.started": "2024-02-25T15:22:50.127349Z",
          "shell.execute_reply": "2024-02-25T15:22:50.135172Z"
        },
        "trusted": true,
        "id": "rUYy4N43T2xc"
      },
      "execution_count": null,
      "outputs": []
    },
    {
      "cell_type": "code",
      "source": [
        "train_df = pd.read_csv('/content/train_ds.csv', index_col=0)\n",
        "train_df.dropna(inplace=True)\n",
        "train_df['Acidity'] = train_df['Acidity'].astype(float)\n",
        "train_df['Quality'] = train_df['Quality'].map({\"good\": 1, \"bad\": 0})\n",
        "plt.rcParams['figure.figsize']=[20,10]\n",
        "train_df.hist()\n",
        "plt.show"
      ],
      "metadata": {
        "execution": {
          "iopub.status.busy": "2024-02-25T15:22:55.096318Z",
          "iopub.execute_input": "2024-02-25T15:22:55.096753Z",
          "iopub.status.idle": "2024-02-25T15:22:57.110356Z",
          "shell.execute_reply.started": "2024-02-25T15:22:55.096724Z",
          "shell.execute_reply": "2024-02-25T15:22:57.109302Z"
        },
        "trusted": true,
        "id": "EVk-ehOYT2xd"
      },
      "execution_count": null,
      "outputs": []
    },
    {
      "cell_type": "code",
      "source": [
        "plt.rcParams['figure.figsize']=[20,30]\n",
        "train_df.plot(kind='density',subplots=True,sharex=True)\n",
        "plt.show()"
      ],
      "metadata": {
        "execution": {
          "iopub.status.busy": "2024-02-25T15:23:26.891707Z",
          "iopub.execute_input": "2024-02-25T15:23:26.89219Z",
          "iopub.status.idle": "2024-02-25T15:23:30.267037Z",
          "shell.execute_reply.started": "2024-02-25T15:23:26.892139Z",
          "shell.execute_reply": "2024-02-25T15:23:30.265956Z"
        },
        "trusted": true,
        "id": "yO5pQdFvT2xe"
      },
      "execution_count": null,
      "outputs": []
    },
    {
      "cell_type": "code",
      "source": [
        "scaler = MinMaxScaler(feature_range=(0,1))\n",
        "scaled_train = scaler.fit_transform(train_df.iloc[:, :-1])\n",
        "x_train = scaled_train\n",
        "y_train = train_df['Quality'].values\n",
        "input_shape = [x_train.shape[1]]"
      ],
      "metadata": {
        "execution": {
          "iopub.status.busy": "2024-02-25T15:23:51.511092Z",
          "iopub.execute_input": "2024-02-25T15:23:51.512444Z",
          "iopub.status.idle": "2024-02-25T15:23:51.523321Z",
          "shell.execute_reply.started": "2024-02-25T15:23:51.512398Z",
          "shell.execute_reply": "2024-02-25T15:23:51.522037Z"
        },
        "trusted": true,
        "id": "xBSmLOGIT2xe"
      },
      "execution_count": null,
      "outputs": []
    },
    {
      "cell_type": "code",
      "source": [
        "model = keras.Sequential([\n",
        "    layers.BatchNormalization(input_shape=input_shape),\n",
        "    layers.Dense(units=256, activation='relu'),\n",
        "    layers.BatchNormalization(),\n",
        "    layers.Dropout(0.3),\n",
        "    layers.Dense(units=128, activation='relu'),\n",
        "    layers.BatchNormalization(),\n",
        "    layers.Dropout(0.3),\n",
        "    layers.Dense(units=64, activation='relu'),\n",
        "    layers.Dense(units=1, activation='sigmoid')\n",
        "])\n",
        "model.summary()"
      ],
      "metadata": {
        "execution": {
          "iopub.status.busy": "2024-02-25T15:24:17.711599Z",
          "iopub.execute_input": "2024-02-25T15:24:17.712051Z",
          "iopub.status.idle": "2024-02-25T15:24:17.981214Z",
          "shell.execute_reply.started": "2024-02-25T15:24:17.71202Z",
          "shell.execute_reply": "2024-02-25T15:24:17.980252Z"
        },
        "trusted": true,
        "id": "KIEhpbT_T2xf"
      },
      "execution_count": null,
      "outputs": []
    },
    {
      "cell_type": "code",
      "source": [
        "model.summary()\n",
        "model.compile(\n",
        "    optimizer='adam',\n",
        "    loss='binary_crossentropy',\n",
        "    metrics='binary_accuracy'\n",
        ")\n",
        "history = model.fit(\n",
        "    x_train, y_train,\n",
        "    batch_size=64,\n",
        "    epochs=100,\n",
        "    callbacks=[keras.callbacks.EarlyStopping(patience=10, min_delta=0.001, restore_best_weights=True)]\n",
        ")"
      ],
      "metadata": {
        "execution": {
          "iopub.status.busy": "2024-02-25T15:28:37.681011Z",
          "iopub.execute_input": "2024-02-25T15:28:37.681471Z",
          "iopub.status.idle": "2024-02-25T15:28:56.393709Z",
          "shell.execute_reply.started": "2024-02-25T15:28:37.681439Z",
          "shell.execute_reply": "2024-02-25T15:28:56.39243Z"
        },
        "trusted": true,
        "id": "KlCr8BUPT2xf"
      },
      "execution_count": null,
      "outputs": []
    },
    {
      "cell_type": "code",
      "source": [
        "test_df = pd.read_csv('/content/test_ds.csv')\n"
      ],
      "metadata": {
        "execution": {
          "iopub.status.busy": "2024-02-25T15:29:02.42639Z",
          "iopub.execute_input": "2024-02-25T15:29:02.427219Z",
          "iopub.status.idle": "2024-02-25T15:29:02.437873Z",
          "shell.execute_reply.started": "2024-02-25T15:29:02.427156Z",
          "shell.execute_reply": "2024-02-25T15:29:02.436829Z"
        },
        "trusted": true,
        "id": "slgj40j9T2xf"
      },
      "execution_count": null,
      "outputs": []
    },
    {
      "cell_type": "code",
      "source": [
        "test_df.dropna(inplace=True)\n",
        "scaled_test = scaler.transform(test_df.iloc[:, 1:])\n",
        "submission_predictions = model.predict(scaled_test)\n",
        "submission_predictions = np.round(submission_predictions).astype(int)\n",
        "submission_labels = {1: 'good', 0: 'bad'}\n",
        "submission_predictions = [submission_labels[pred[0]] for pred in submission_predictions]\n",
        "submission_df = pd.DataFrame({'ID': test_df['ID'], 'Quality': submission_predictions})\n",
        "submission_df.to_csv('submission.csv', index=False)\n",
        "submission_df"
      ],
      "metadata": {
        "execution": {
          "iopub.status.busy": "2024-02-25T15:29:05.816556Z",
          "iopub.execute_input": "2024-02-25T15:29:05.817339Z",
          "iopub.status.idle": "2024-02-25T15:29:06.042989Z",
          "shell.execute_reply.started": "2024-02-25T15:29:05.817303Z",
          "shell.execute_reply": "2024-02-25T15:29:06.041886Z"
        },
        "trusted": true,
        "id": "QJ8jvL3ST2xg"
      },
      "execution_count": null,
      "outputs": []
    },
    {
      "cell_type": "code",
      "source": [
        "from sklearn.metrics import accuracy_score, mean_absolute_error, precision_score, classification_report\n",
        "y_pred_train = model.predict(x_train)\n",
        "y_pred_train = np.round(y_pred_train).astype(int)"
      ],
      "metadata": {
        "execution": {
          "iopub.status.busy": "2024-02-25T15:29:09.560793Z",
          "iopub.execute_input": "2024-02-25T15:29:09.561693Z",
          "iopub.status.idle": "2024-02-25T15:29:09.93127Z",
          "shell.execute_reply.started": "2024-02-25T15:29:09.56165Z",
          "shell.execute_reply": "2024-02-25T15:29:09.929947Z"
        },
        "trusted": true,
        "id": "45dn3IjST2xg"
      },
      "execution_count": null,
      "outputs": []
    },
    {
      "cell_type": "code",
      "source": [
        "acc=accuracy_score(y_train, y_pred_train)\n",
        "acc"
      ],
      "metadata": {
        "execution": {
          "iopub.status.busy": "2024-02-25T15:29:13.335937Z",
          "iopub.execute_input": "2024-02-25T15:29:13.336437Z",
          "iopub.status.idle": "2024-02-25T15:29:13.346243Z",
          "shell.execute_reply.started": "2024-02-25T15:29:13.33639Z",
          "shell.execute_reply": "2024-02-25T15:29:13.34499Z"
        },
        "trusted": true,
        "id": "fqeKPwRsT2xh"
      },
      "execution_count": null,
      "outputs": []
    },
    {
      "cell_type": "code",
      "source": [
        "prec = precision_score(y_train, y_pred_train)\n",
        "prec"
      ],
      "metadata": {
        "execution": {
          "iopub.status.busy": "2024-02-25T15:30:05.031306Z",
          "iopub.execute_input": "2024-02-25T15:30:05.032031Z",
          "iopub.status.idle": "2024-02-25T15:30:05.043652Z",
          "shell.execute_reply.started": "2024-02-25T15:30:05.031994Z",
          "shell.execute_reply": "2024-02-25T15:30:05.042246Z"
        },
        "trusted": true,
        "id": "uoDTpoYsT2xh"
      },
      "execution_count": null,
      "outputs": []
    },
    {
      "cell_type": "code",
      "source": [
        "mae = mean_absolute_error(y_train, y_pred_train)\n",
        "mae"
      ],
      "metadata": {
        "execution": {
          "iopub.status.busy": "2024-02-25T15:30:08.80561Z",
          "iopub.execute_input": "2024-02-25T15:30:08.806078Z",
          "iopub.status.idle": "2024-02-25T15:30:08.813481Z",
          "shell.execute_reply.started": "2024-02-25T15:30:08.806042Z",
          "shell.execute_reply": "2024-02-25T15:30:08.812083Z"
        },
        "trusted": true,
        "id": "oLxK7zSwT2xh"
      },
      "execution_count": null,
      "outputs": []
    },
    {
      "cell_type": "code",
      "source": [
        "report=classification_report(y_train, y_pred_train)\n",
        "report"
      ],
      "metadata": {
        "execution": {
          "iopub.status.busy": "2024-02-25T15:30:12.235636Z",
          "iopub.execute_input": "2024-02-25T15:30:12.236218Z",
          "iopub.status.idle": "2024-02-25T15:30:12.260593Z",
          "shell.execute_reply.started": "2024-02-25T15:30:12.236143Z",
          "shell.execute_reply": "2024-02-25T15:30:12.259435Z"
        },
        "trusted": true,
        "id": "4E-TDq8MT2xh"
      },
      "execution_count": null,
      "outputs": []
    },
    {
      "cell_type": "code",
      "source": [
        "output_file_path = '/kaggle/working/classification_report.csv'\n",
        "with open(output_file_path, 'w') as f:\n",
        "    f.write(\"Accuracy: {}\\n\".format(acc))\n",
        "    f.write(\"Mean Absolute Error: {}\".format(mae))\n",
        "    f.write(\"Classification Report:\\n\")\n",
        "    f.write(report)\n",
        "output_file_path"
      ],
      "metadata": {
        "execution": {
          "iopub.status.busy": "2024-02-25T15:30:17.331278Z",
          "iopub.execute_input": "2024-02-25T15:30:17.331957Z",
          "iopub.status.idle": "2024-02-25T15:30:17.340273Z",
          "shell.execute_reply.started": "2024-02-25T15:30:17.331915Z",
          "shell.execute_reply": "2024-02-25T15:30:17.339206Z"
        },
        "trusted": true,
        "id": "QyR8wic1T2xi"
      },
      "execution_count": null,
      "outputs": []
    }
  ]
}